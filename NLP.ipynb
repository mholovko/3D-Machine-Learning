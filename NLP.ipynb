{
  "nbformat": 4,
  "nbformat_minor": 0,
  "metadata": {
    "colab": {
      "name": "NLP.ipynb",
      "provenance": [],
      "authorship_tag": "ABX9TyNvYssiSllV4wlvL+X77Q1n",
      "include_colab_link": true
    },
    "kernelspec": {
      "name": "python3",
      "display_name": "Python 3"
    }
  },
  "cells": [
    {
      "cell_type": "markdown",
      "metadata": {
        "id": "view-in-github",
        "colab_type": "text"
      },
      "source": [
        "<a href=\"https://colab.research.google.com/github/mholovko/3D-Machine-Learning/blob/master/NLP.ipynb\" target=\"_parent\"><img src=\"https://colab.research.google.com/assets/colab-badge.svg\" alt=\"Open In Colab\"/></a>"
      ]
    },
    {
      "cell_type": "markdown",
      "metadata": {
        "id": "lnlBJrsngngP"
      },
      "source": [
        "#env"
      ]
    },
    {
      "cell_type": "code",
      "metadata": {
        "colab": {
          "base_uri": "https://localhost:8080/"
        },
        "id": "a1caM3VbfSGC",
        "outputId": "6ecd920c-5eaa-48c8-e34f-c7dfe5c97319"
      },
      "source": [
        "!pip install notion"
      ],
      "execution_count": 1,
      "outputs": [
        {
          "output_type": "stream",
          "text": [
            "Collecting notion\n",
            "\u001b[?25l  Downloading https://files.pythonhosted.org/packages/a2/89/3d4821e7d704784569e706a77135df77812f21f8e4f4634d3bed61732683/notion-0.0.27-py3-none-any.whl (41kB)\n",
            "\r\u001b[K     |████████                        | 10kB 16.7MB/s eta 0:00:01\r\u001b[K     |███████████████▉                | 20kB 9.8MB/s eta 0:00:01\r\u001b[K     |███████████████████████▊        | 30kB 8.4MB/s eta 0:00:01\r\u001b[K     |███████████████████████████████▊| 40kB 7.3MB/s eta 0:00:01\r\u001b[K     |████████████████████████████████| 51kB 3.7MB/s \n",
            "\u001b[?25hCollecting dictdiffer\n",
            "  Downloading https://files.pythonhosted.org/packages/97/92/350b6b6ec39c5f87d98d04c91a50c498518716a05368e6dea88b5c69b590/dictdiffer-0.8.1-py2.py3-none-any.whl\n",
            "Requirement already satisfied: requests in /usr/local/lib/python3.6/dist-packages (from notion) (2.23.0)\n",
            "Requirement already satisfied: python-slugify in /usr/local/lib/python3.6/dist-packages (from notion) (4.0.1)\n",
            "Requirement already satisfied: bs4 in /usr/local/lib/python3.6/dist-packages (from notion) (0.0.1)\n",
            "Requirement already satisfied: tzlocal in /usr/local/lib/python3.6/dist-packages (from notion) (1.5.1)\n",
            "Collecting cached-property\n",
            "  Downloading https://files.pythonhosted.org/packages/48/19/f2090f7dad41e225c7f2326e4cfe6fff49e57dedb5b53636c9551f86b069/cached_property-1.5.2-py2.py3-none-any.whl\n",
            "Collecting commonmark\n",
            "\u001b[?25l  Downloading https://files.pythonhosted.org/packages/b1/92/dfd892312d822f36c55366118b95d914e5f16de11044a27cf10a7d71bbbf/commonmark-0.9.1-py2.py3-none-any.whl (51kB)\n",
            "\u001b[K     |████████████████████████████████| 51kB 4.9MB/s \n",
            "\u001b[?25hRequirement already satisfied: chardet<4,>=3.0.2 in /usr/local/lib/python3.6/dist-packages (from requests->notion) (3.0.4)\n",
            "Requirement already satisfied: idna<3,>=2.5 in /usr/local/lib/python3.6/dist-packages (from requests->notion) (2.10)\n",
            "Requirement already satisfied: certifi>=2017.4.17 in /usr/local/lib/python3.6/dist-packages (from requests->notion) (2020.12.5)\n",
            "Requirement already satisfied: urllib3!=1.25.0,!=1.25.1,<1.26,>=1.21.1 in /usr/local/lib/python3.6/dist-packages (from requests->notion) (1.24.3)\n",
            "Requirement already satisfied: text-unidecode>=1.3 in /usr/local/lib/python3.6/dist-packages (from python-slugify->notion) (1.3)\n",
            "Requirement already satisfied: beautifulsoup4 in /usr/local/lib/python3.6/dist-packages (from bs4->notion) (4.6.3)\n",
            "Requirement already satisfied: pytz in /usr/local/lib/python3.6/dist-packages (from tzlocal->notion) (2018.9)\n",
            "Installing collected packages: dictdiffer, cached-property, commonmark, notion\n",
            "Successfully installed cached-property-1.5.2 commonmark-0.9.1 dictdiffer-0.8.1 notion-0.0.27\n"
          ],
          "name": "stdout"
        }
      ]
    },
    {
      "cell_type": "code",
      "metadata": {
        "id": "HSaIB9FYfNJ7"
      },
      "source": [
        "import notion\r\n",
        "import sqlalchemy\r\n",
        "import pandas as pd\r\n",
        "import numpy as np"
      ],
      "execution_count": 2,
      "outputs": []
    },
    {
      "cell_type": "code",
      "metadata": {
        "id": "PmhcOEt6fP56"
      },
      "source": [
        "from notion.client import NotionClient\r\n",
        "\r\n",
        "# Obtain the `token_v2` value by inspecting your browser cookies on a logged-in session on Notion.so\r\n",
        "client = NotionClient(token_v2=\"2f4aaa29adc3cdf7dde9b4198198ee26a5e8227cf97b8adcc76d60b14df5cee50122f62fb452fbc9b9ea04ea2e40ae55621e05ffd7847f185da02f51048b3b7d9023e853d6ea4f1967aed9819748\")\r\n",
        "  "
      ],
      "execution_count": 3,
      "outputs": []
    },
    {
      "cell_type": "markdown",
      "metadata": {
        "id": "KcVWKZWGgtaH"
      },
      "source": [
        "#CollectData"
      ]
    },
    {
      "cell_type": "code",
      "metadata": {
        "colab": {
          "base_uri": "https://localhost:8080/",
          "height": 188
        },
        "id": "lcaptQKTfa0W",
        "outputId": "2d22617d-5c63-4088-ccd5-1c97ab2abf04"
      },
      "source": [
        "page = client.get_block(\"https://www.notion.so/spatialtech/a97397fb49a04bfe80e3df3f8b718b35\")\r\n",
        "\r\n",
        "page.children.filter(type='TextBlock')[0].title"
      ],
      "execution_count": 14,
      "outputs": [
        {
          "output_type": "execute_result",
          "data": {
            "application/vnd.google.colaboratory.intrinsic+json": {
              "type": "string"
            },
            "text/plain": [
              "' «В лагере по ул. Керосинной я пробыл около 8 дней, сначала находился вместе с военнопленными разных национальностей – украинцами, русскими и др. – всего около 8 000 человек, а через два дня переведен в отделение этого же лагеря, в котором находилось около 3 тысяч военнопленных и гражданских лиц –только еврейского населения. Первые пять дней пища для находившихся в лагере не выдавалась, а за последние три дня пребывания в этом лагере я получил один раз около полулитра так называемой «баланды» –немного муки разбавленной в воде и второй раз – несколько граммов капусты. Водой вовсе не снабжали. Закрытые помещения лагеря были настолько забиты людьми, что в них можно было только стоять, во многих помещениях люди задыхались из-за отсутствия воздуха. Из числа еврейского населения многих в лагерь приводили избитыми до смерти. Отсутствие питания, антисанитарное состояние в самом лагере, грубое обращение с людьми со стороны немецких надсмотрщиков, избивавших ни за что, приводили к тому, что в лагере ежедневно умирало до 5 человек. С 28 сентября 1941 г. и до момента ухода из лагеря, всех находившихся в нем евреев в возрасте до 16 лет и свыше 35 лет ежедневно грузили на автомашины и вывозили из лагеря. Вскоре эти же машины возвращались обратно в лагерь без людей, а только с одеждой, которую складывали в отдельные помещения. Поэтому всем находившимся в лагере стало известно, что всех вывозимых на автомашинах везут не на работу, как это сначала пытались объяснить немцы, а на расстрел. Позднее эти предположения подтвердились вновь поступившими в лагерь лицами, которые заявили, что всех евреев вывозили из лагеря в «Бабий Яр» и там расстреливали… С 28 сентября по 3 октября 1941 г. из лагеря ежедневно вывозили немцы 10–5 грузовых машин груженых людьми. За время пребывания в лагере, туда ежедневно прибывали новые и новые люди партиями по несколько сот человек, однако, общее количество всех военнопленных к концу дня оставалось почти неизменным, так как столько же и убывало на расстрел […]»'"
            ]
          },
          "metadata": {
            "tags": []
          },
          "execution_count": 14
        }
      ]
    }
  ]
}